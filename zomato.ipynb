# 📊 Zomato Financial Performance & Stock Price Analysis

**Author:** Pratanu Roy  
**Data Sources:** Screener, Yahoo Finance  
**Tools Used:** Python (pandas, seaborn, sklearn, matplotlib)  

## 📁 Notebook Objective:
Analyze Zomato's quarterly financial data to understand:
- Revenue and Net Profit trends
- EPS and Stock Price dynamics
- How key financial indicators influence stock price (via regression)

## 🔍 Summary:
This analysis models Zomato’s financial recovery and identifies its strongest valuation drivers. The model’s R² = 0.88 shows strong explanatory power, with Net Profit and EPS being the most influential.
